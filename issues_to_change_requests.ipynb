{
 "cells": [
  {
   "cell_type": "markdown",
   "metadata": {},
   "source": [
    "# Issues to Change Requests Metric"
   ]
  },
  {
   "cell_type": "markdown",
   "metadata": {},
   "source": [
    "### Connect to the Database"
   ]
  },
  {
   "cell_type": "code",
   "execution_count": 1,
   "metadata": {},
   "outputs": [
    {
     "name": "stdout",
     "output_type": "stream",
     "text": [
      "Done\n"
     ]
    }
   ],
   "source": [
    "import psycopg2\n",
    "import pandas as pd \n",
    "import sqlalchemy as salc\n",
    "import numpy as np\n",
    "import seaborn as sns\n",
    "import matplotlib.pyplot as plt\n",
    "import warnings\n",
    "import datetime\n",
    "import json\n",
    "warnings.filterwarnings('ignore')\n",
    "\n",
    "with open(\"config.json\") as config_file:\n",
    "    config = json.load(config_file)\n",
    "\n",
    "database_connection_string = 'postgres+psycopg2://{}:{}@{}:{}/{}'.format(config['user'], config['password'], config['host'], config['port'], config['database'])\n",
    "\n",
    "dbschema='augur_data'\n",
    "engine = salc.create_engine(\n",
    "    database_connection_string,\n",
    "    connect_args={'options': '-csearch_path={}'.format(dbschema)})\n",
    "\n",
    "print(\"Done\")"
   ]
  },
  {
   "cell_type": "markdown",
   "metadata": {},
   "source": [
    "### Retrieve Repositories in the Database"
   ]
  },
  {
   "cell_type": "code",
   "execution_count": 2,
   "metadata": {},
   "outputs": [
    {
     "data": {
      "text/html": [
       "<div>\n",
       "<style scoped>\n",
       "    .dataframe tbody tr th:only-of-type {\n",
       "        vertical-align: middle;\n",
       "    }\n",
       "\n",
       "    .dataframe tbody tr th {\n",
       "        vertical-align: top;\n",
       "    }\n",
       "\n",
       "    .dataframe thead th {\n",
       "        text-align: right;\n",
       "    }\n",
       "</style>\n",
       "<table border=\"1\" class=\"dataframe\">\n",
       "  <thead>\n",
       "    <tr style=\"text-align: right;\">\n",
       "      <th></th>\n",
       "      <th>rg_name</th>\n",
       "      <th>repo_group_id</th>\n",
       "      <th>repo_name</th>\n",
       "      <th>repo_id</th>\n",
       "      <th>forked_from</th>\n",
       "      <th>repo_archived</th>\n",
       "    </tr>\n",
       "  </thead>\n",
       "  <tbody>\n",
       "    <tr>\n",
       "      <th>0</th>\n",
       "      <td>chaoss</td>\n",
       "      <td>25155</td>\n",
       "      <td>augur</td>\n",
       "      <td>25440</td>\n",
       "      <td>Parent not available</td>\n",
       "      <td>0.0</td>\n",
       "    </tr>\n",
       "    <tr>\n",
       "      <th>1</th>\n",
       "      <td>chaoss</td>\n",
       "      <td>25155</td>\n",
       "      <td>augur-license</td>\n",
       "      <td>25460</td>\n",
       "      <td>Parent not available</td>\n",
       "      <td>0.0</td>\n",
       "    </tr>\n",
       "    <tr>\n",
       "      <th>2</th>\n",
       "      <td>chaoss</td>\n",
       "      <td>25155</td>\n",
       "      <td>governance</td>\n",
       "      <td>25449</td>\n",
       "      <td>Parent not available</td>\n",
       "      <td>0.0</td>\n",
       "    </tr>\n",
       "    <tr>\n",
       "      <th>3</th>\n",
       "      <td>chaoss</td>\n",
       "      <td>25155</td>\n",
       "      <td>grimoirelab</td>\n",
       "      <td>25448</td>\n",
       "      <td>Parent not available</td>\n",
       "      <td>0.0</td>\n",
       "    </tr>\n",
       "    <tr>\n",
       "      <th>4</th>\n",
       "      <td>chaoss</td>\n",
       "      <td>25155</td>\n",
       "      <td>grimoirelab-bestiary</td>\n",
       "      <td>25443</td>\n",
       "      <td>Parent not available</td>\n",
       "      <td>0.0</td>\n",
       "    </tr>\n",
       "    <tr>\n",
       "      <th>...</th>\n",
       "      <td>...</td>\n",
       "      <td>...</td>\n",
       "      <td>...</td>\n",
       "      <td>...</td>\n",
       "      <td>...</td>\n",
       "      <td>...</td>\n",
       "    </tr>\n",
       "    <tr>\n",
       "      <th>75</th>\n",
       "      <td>SaltStack</td>\n",
       "      <td>60017</td>\n",
       "      <td>salt-winrepo-ng</td>\n",
       "      <td>30356</td>\n",
       "      <td>Parent not available</td>\n",
       "      <td>0.0</td>\n",
       "    </tr>\n",
       "    <tr>\n",
       "      <th>76</th>\n",
       "      <td>SaltStack</td>\n",
       "      <td>60017</td>\n",
       "      <td>salty-vagrant</td>\n",
       "      <td>30362</td>\n",
       "      <td>Parent not available</td>\n",
       "      <td>0.0</td>\n",
       "    </tr>\n",
       "    <tr>\n",
       "      <th>77</th>\n",
       "      <td>SaltStack</td>\n",
       "      <td>60017</td>\n",
       "      <td>sublime-text</td>\n",
       "      <td>30347</td>\n",
       "      <td>Parent not available</td>\n",
       "      <td>0.0</td>\n",
       "    </tr>\n",
       "    <tr>\n",
       "      <th>78</th>\n",
       "      <td>SaltStack</td>\n",
       "      <td>60017</td>\n",
       "      <td>takara</td>\n",
       "      <td>30380</td>\n",
       "      <td>Parent not available</td>\n",
       "      <td>1.0</td>\n",
       "    </tr>\n",
       "    <tr>\n",
       "      <th>79</th>\n",
       "      <td>SaltStack</td>\n",
       "      <td>60017</td>\n",
       "      <td>windows-test-states</td>\n",
       "      <td>30346</td>\n",
       "      <td>Parent not available</td>\n",
       "      <td>0.0</td>\n",
       "    </tr>\n",
       "  </tbody>\n",
       "</table>\n",
       "<p>80 rows × 6 columns</p>\n",
       "</div>"
      ],
      "text/plain": [
       "      rg_name  repo_group_id             repo_name  repo_id  \\\n",
       "0      chaoss          25155                 augur    25440   \n",
       "1      chaoss          25155         augur-license    25460   \n",
       "2      chaoss          25155            governance    25449   \n",
       "3      chaoss          25155           grimoirelab    25448   \n",
       "4      chaoss          25155  grimoirelab-bestiary    25443   \n",
       "..        ...            ...                   ...      ...   \n",
       "75  SaltStack          60017       salt-winrepo-ng    30356   \n",
       "76  SaltStack          60017         salty-vagrant    30362   \n",
       "77  SaltStack          60017          sublime-text    30347   \n",
       "78  SaltStack          60017                takara    30380   \n",
       "79  SaltStack          60017   windows-test-states    30346   \n",
       "\n",
       "             forked_from  repo_archived  \n",
       "0   Parent not available            0.0  \n",
       "1   Parent not available            0.0  \n",
       "2   Parent not available            0.0  \n",
       "3   Parent not available            0.0  \n",
       "4   Parent not available            0.0  \n",
       "..                   ...            ...  \n",
       "75  Parent not available            0.0  \n",
       "76  Parent not available            0.0  \n",
       "77  Parent not available            0.0  \n",
       "78  Parent not available            1.0  \n",
       "79  Parent not available            0.0  \n",
       "\n",
       "[80 rows x 6 columns]"
      ]
     },
     "metadata": {},
     "output_type": "display_data"
    },
    {
     "data": {
      "text/plain": [
       "rg_name           object\n",
       "repo_group_id      int64\n",
       "repo_name         object\n",
       "repo_id            int64\n",
       "forked_from       object\n",
       "repo_archived    float64\n",
       "dtype: object"
      ]
     },
     "execution_count": 2,
     "metadata": {},
     "output_type": "execute_result"
    }
   ],
   "source": [
    "repolist = pd.DataFrame()\n",
    "\n",
    "repo_query = salc.sql.text(f\"\"\"\n",
    "             SELECT a.rg_name,\n",
    "                a.repo_group_id,\n",
    "                b.repo_name,\n",
    "                b.repo_id,\n",
    "                b.forked_from,\n",
    "                b.repo_archived \n",
    "            FROM\n",
    "                repo_groups a,\n",
    "                repo b \n",
    "            WHERE\n",
    "                a.repo_group_id = b.repo_group_id \n",
    "            ORDER BY\n",
    "                rg_name,\n",
    "                repo_name;   \n",
    "\n",
    "    \"\"\")\n",
    "\n",
    "repolist = pd.read_sql(repo_query, con=engine)\n",
    "\n",
    "display(repolist)\n",
    "\n",
    "repolist.dtypes"
   ]
  },
  {
   "cell_type": "markdown",
   "metadata": {},
   "source": [
    "### Repository Filters"
   ]
  },
  {
   "cell_type": "code",
   "execution_count": 3,
   "metadata": {},
   "outputs": [
    {
     "name": "stdout",
     "output_type": "stream",
     "text": [
      "Repositories:\n",
      "\t25440\n",
      "\t25460\n",
      "\t25449\n"
     ]
    }
   ],
   "source": [
    "# All repo ids to produce charts for.\n",
    "repo_set = repolist['repo_id']\n",
    "\n",
    "# DELETE THE FOLLOWING LINE TO PERFORM THIS ON ALL REPOSITORIES - TAKES A WHILE!\n",
    "repo_set = repo_set[0:5] # Preserves only some repositories, because having the full list done for the following code would be too large\n",
    "\n",
    "# graph_dispay can be set as 'repository' or 'competitors'.\n",
    "# 'repository' will produce a graph of the issues to change requests statistic over time.\n",
    "# 'competitors' will compare a repository versus other competiting repositories, so it is easy to see where the repository stands.\n",
    "graph_display = 'repository'\n",
    "\n",
    "# If graph_display is set to 'competitors', then enter the repository IDs you do no want to alias (compare).\n",
    "# If graph_display is set to 'repository', then this list will not effect anything.\n",
    "not_aliased_repos = [25440, 25448]\n",
    "\n",
    "# group_by can be set as 'month' or 'year'. This determines the span of time for graphs when graph_display is set to 'repository'.\n",
    "group_by = 'month'\n",
    "\n",
    "# Specify the dates for filtering.\n",
    "# If the 'end_date' is in the future, then the 'end_date' will default to the current date.\n",
    "start_date = '2021-01-01'\n",
    "end_date = '2021-12-31'\n",
    "\n",
    "if end_date > pd.to_datetime('today').strftime(\"%Y-%m-%d\"):\n",
    "    end_date = pd.to_datetime('today').strftime(\"%Y-%m-%d\")\n",
    "\n",
    "print(\"Repositories:\")\n",
    "for repo in repo_set:\n",
    "    print(\"\\t{}\".format(repo))"
   ]
  },
  {
   "cell_type": "markdown",
   "metadata": {},
   "source": [
    "### Query Issues and Change Requests Data"
   ]
  },
  {
   "cell_type": "code",
   "execution_count": 4,
   "metadata": {},
   "outputs": [
    {
     "name": "stdout",
     "output_type": "stream",
     "text": [
      "Ratios Data Frame\n"
     ]
    },
    {
     "data": {
      "text/html": [
       "<div>\n",
       "<style scoped>\n",
       "    .dataframe tbody tr th:only-of-type {\n",
       "        vertical-align: middle;\n",
       "    }\n",
       "\n",
       "    .dataframe tbody tr th {\n",
       "        vertical-align: top;\n",
       "    }\n",
       "\n",
       "    .dataframe thead th {\n",
       "        text-align: right;\n",
       "    }\n",
       "</style>\n",
       "<table border=\"1\" class=\"dataframe\">\n",
       "  <thead>\n",
       "    <tr style=\"text-align: right;\">\n",
       "      <th></th>\n",
       "      <th>repo_id</th>\n",
       "      <th>issues_count</th>\n",
       "      <th>pr_count</th>\n",
       "      <th>ratio</th>\n",
       "    </tr>\n",
       "  </thead>\n",
       "  <tbody>\n",
       "    <tr>\n",
       "      <th>0</th>\n",
       "      <td>25440</td>\n",
       "      <td>1028</td>\n",
       "      <td>889</td>\n",
       "      <td>1.156355</td>\n",
       "    </tr>\n",
       "    <tr>\n",
       "      <th>2</th>\n",
       "      <td>25449</td>\n",
       "      <td>236</td>\n",
       "      <td>244</td>\n",
       "      <td>0.967213</td>\n",
       "    </tr>\n",
       "    <tr>\n",
       "      <th>1</th>\n",
       "      <td>25460</td>\n",
       "      <td>14</td>\n",
       "      <td>13</td>\n",
       "      <td>1.076923</td>\n",
       "    </tr>\n",
       "  </tbody>\n",
       "</table>\n",
       "</div>"
      ],
      "text/plain": [
       "   repo_id  issues_count  pr_count     ratio\n",
       "0    25440          1028       889  1.156355\n",
       "2    25449           236       244  0.967213\n",
       "1    25460            14        13  1.076923"
      ]
     },
     "metadata": {},
     "output_type": "display_data"
    },
    {
     "name": "stdout",
     "output_type": "stream",
     "text": [
      "Months Data Frame\n"
     ]
    },
    {
     "data": {
      "text/html": [
       "<div>\n",
       "<style scoped>\n",
       "    .dataframe tbody tr th:only-of-type {\n",
       "        vertical-align: middle;\n",
       "    }\n",
       "\n",
       "    .dataframe tbody tr th {\n",
       "        vertical-align: top;\n",
       "    }\n",
       "\n",
       "    .dataframe thead th {\n",
       "        text-align: right;\n",
       "    }\n",
       "</style>\n",
       "<table border=\"1\" class=\"dataframe\">\n",
       "  <thead>\n",
       "    <tr style=\"text-align: right;\">\n",
       "      <th></th>\n",
       "      <th>year</th>\n",
       "      <th>month</th>\n",
       "    </tr>\n",
       "  </thead>\n",
       "  <tbody>\n",
       "    <tr>\n",
       "      <th>0</th>\n",
       "      <td>2021.0</td>\n",
       "      <td>1.0</td>\n",
       "    </tr>\n",
       "    <tr>\n",
       "      <th>1</th>\n",
       "      <td>2021.0</td>\n",
       "      <td>2.0</td>\n",
       "    </tr>\n",
       "    <tr>\n",
       "      <th>2</th>\n",
       "      <td>2021.0</td>\n",
       "      <td>3.0</td>\n",
       "    </tr>\n",
       "    <tr>\n",
       "      <th>3</th>\n",
       "      <td>2021.0</td>\n",
       "      <td>4.0</td>\n",
       "    </tr>\n",
       "    <tr>\n",
       "      <th>4</th>\n",
       "      <td>2021.0</td>\n",
       "      <td>5.0</td>\n",
       "    </tr>\n",
       "  </tbody>\n",
       "</table>\n",
       "</div>"
      ],
      "text/plain": [
       "     year  month\n",
       "0  2021.0    1.0\n",
       "1  2021.0    2.0\n",
       "2  2021.0    3.0\n",
       "3  2021.0    4.0\n",
       "4  2021.0    5.0"
      ]
     },
     "metadata": {},
     "output_type": "display_data"
    }
   ],
   "source": [
    "issues_df = pd.DataFrame() # df stands for 'Data Frame'\n",
    "pullrequests_df = pd.DataFrame()\n",
    "ratios_df = pd.DataFrame()\n",
    "\n",
    "for repo_id in repo_set:\n",
    "    issues_query = salc.sql.text(f\"\"\"\n",
    "    SELECT DISTINCT repo_id, COUNT(issue_id) AS issues_count\n",
    "    FROM augur_data.issues\n",
    "    WHERE repo_id = {repo_id}\n",
    "    GROUP BY repo_id\n",
    "\"\"\")\n",
    "    df_first_repo = pd.read_sql(issues_query, con=engine)\n",
    "    if not issues_df.empty:\n",
    "        issues_df = pd.concat([issues_df, df_first_repo]) \n",
    "    else:\n",
    "        issues_df = df_first_repo # first repo\n",
    "    \n",
    "    pullrequests_query = salc.sql.text(f\"\"\"\n",
    "    SELECT DISTINCT repo_id, COUNT(pull_request_id) AS pr_count\n",
    "    FROM augur_data.pull_requests\n",
    "    WHERE repo_id = {repo_id}\n",
    "    GROUP BY repo_id\n",
    "\"\"\")\n",
    "    prdf_first_repo = pd.read_sql(pullrequests_query, con=engine)\n",
    "    if not pullrequests_df.empty:\n",
    "        pullrequests_df = pd.concat([pullrequests_df, prdf_first_repo])\n",
    "    else:\n",
    "        pullrequests_df = prdf_first_repo\n",
    "\n",
    "# Combine the count of issues and pull requests per repository ID.\n",
    "ratios_df = pd.merge(left=issues_df, right=pullrequests_df, how='outer', on='repo_id')\n",
    "\n",
    "# Set the proper indices for each DataFrame\n",
    "issues_df.index = [x for x in range(0, len(issues_df.values))]\n",
    "pullrequests_df.index = [x for x in range(0, len(issues_df.values))]\n",
    "ratios_df.index = [x for x in range(0, len(ratios_df.values))]\n",
    "\n",
    "# Define and set a new column ratio to hold the ratio for each repository.\n",
    "for repo in repo_set:\n",
    "    ratios_df['ratio'] = ratios_df['issues_count']/ratios_df['pr_count']\n",
    "\n",
    "# Sort the values in the DataFrame\n",
    "ratios_df = ratios_df.sort_values(by='repo_id')\n",
    "\n",
    "months_df = pd.DataFrame() # Months Data Frame\n",
    "\n",
    "months_query = salc.sql.text(f\"\"\"\n",
    "    SELECT * FROM (\n",
    "        SELECT\n",
    "            date_part( 'year', created_month :: DATE ) AS year,\n",
    "            date_part( 'month', created_month :: DATE ) AS MONTH\n",
    "        FROM (\n",
    "            SELECT * FROM ( \n",
    "                SELECT created_month :: DATE FROM generate_series (TIMESTAMP '{start_date}', TIMESTAMP '{end_date}', INTERVAL '1 month' ) created_month ) d ) x \n",
    "        ) y\n",
    "\"\"\")\n",
    "months_df = pd.read_sql(months_query, con=engine)\n",
    "\n",
    "print(\"Ratios Data Frame\")\n",
    "display(ratios_df)\n",
    "print(\"Months Data Frame\")\n",
    "display(months_df)\n"
   ]
  },
  {
   "cell_type": "markdown",
   "metadata": {},
   "source": [
    "### Calculate the Ratio of Issues to Change Requests per Repository"
   ]
  },
  {
   "cell_type": "code",
   "execution_count": 5,
   "metadata": {},
   "outputs": [
    {
     "name": "stdout",
     "output_type": "stream",
     "text": [
      "Repository ID: 25440\n",
      "\tIssues: 1028\tPull Requests: 889\n",
      "\tRatio of Issues to Pull Requests: 1028/889 = 1.156355455568054\n",
      "Repository ID: 25460\n",
      "\tIssues: 14\tPull Requests: 13\n",
      "\tRatio of Issues to Pull Requests: 14/13 = 1.0769230769230769\n",
      "Repository ID: 25449\n",
      "\tIssues: 236\tPull Requests: 244\n",
      "\tRatio of Issues to Pull Requests: 236/244 = 0.9672131147540983\n"
     ]
    }
   ],
   "source": [
    "# Print the ratio for each repository\n",
    "ratios = ratios_df['ratio']\n",
    "for i in range(0, len(ratios_df.values)):\n",
    "    issues = ratios_df.loc[i, 'issues_count']\n",
    "    prs = ratios_df.loc[i, 'pr_count']\n",
    "    print(\"Repository ID: {}\".format(ratios_df.loc[i, 'repo_id']))\n",
    "    print(\"\\tIssues: {0}\\tPull Requests: {1}\".format(issues, prs))\n",
    "    print(\"\\tRatio of Issues to Pull Requests: {0}/{1} = {2}\".format(issues, prs, ratios_df.loc[i, 'ratio']))\n",
    "\n",
    "# TO DO FROM HERE: CREATE VISUALIZATION"
   ]
  },
  {
   "cell_type": "markdown",
   "metadata": {},
   "source": [
    "### Define the Vertical Bar Chart Generator"
   ]
  },
  {
   "cell_type": "code",
   "execution_count": 6,
   "metadata": {},
   "outputs": [
    {
     "data": {
      "text/plain": [
       "<matplotlib.axes._subplots.AxesSubplot at 0x7fa5f3498220>"
      ]
     },
     "execution_count": 6,
     "metadata": {},
     "output_type": "execute_result"
    },
    {
     "data": {
      "image/png": "[encoded data removed]",
      "text/plain": [
       "<Figure size 432x288 with 1 Axes>"
      ]
     },
     "metadata": {
      "needs_background": "light"
     },
     "output_type": "display_data"
    }
   ],
   "source": [
    "#import visualization libraries\n",
    "from bokeh.io import output_notebook, show, export_png\n",
    "from bokeh.plotting import figure\n",
    "from bokeh.models import Label, LabelSet, ColumnDataSource, Legend\n",
    "from bokeh.palettes import Colorblind\n",
    "from bokeh.layouts import gridplot\n",
    "from bokeh.transform import cumsum\n",
    "\n",
    "from math import pi\n",
    "\n",
    "#p = figure(x_range=data['dates'], plot_height=400, plot_width = plot_width, title=title.format(repo_dict[repo_id], \n",
    "#    contributor_type.capitalize(), number, group_by_format_string), y_range=(0, max(data['new_contributor_counts'])* 1.15), \n",
    "#    margin = (0, 0, 10, 0))\n",
    "#plot = figure(x_range=(0, len(ratios_df.values)), \n",
    "#        y_range=(0, max(max(ratios_df['issues_count'].values), max(ratios_df['pr_count'].values))*1.15), \n",
    "#        plot_height=400, plot_width=100*len(ratios_df.values), title=\"This is a test title\", margin=(0, 0, 10, 0))\n",
    "#plot.vbar(x=ratios_df['issues_count'], width=0.8)\n",
    "#caption_plot = figure(plot_width = 100*len(ratios_df.values), plot_height=200, margin=(0, 0, 0, 0))\n",
    "#caption_plot.add_layout(Label(\n",
    "#                x = 0, # Change to shift caption left or right\n",
    "#                y = 160, \n",
    "#                x_units = 'screen',\n",
    "#                y_units = 'screen',\n",
    "#                text='Sample Text is being put here for now',\n",
    "#                text_font = 'times', # Use same font as paper\n",
    "#                text_font_size = '15pt',\n",
    "#                render_mode='css'\n",
    "#                ))\n",
    "#grid = gridplot([[plot, caption_plot]])\n",
    "#show(grid)\n",
    "\n",
    "# Plots the issues and pull requests for each repository\n",
    "#ratios_df.drop('repo_id', axis=1).plot.bar()\n",
    "\n",
    "# Plots the ratio for each repository\n",
    "ratios_df['ratio'].plot.bar()\n",
    "\n",
    "#def vertical_bar_chart(input_df, repo_id, "
   ]
  },
  {
   "cell_type": "markdown",
   "metadata": {},
   "source": [
    "### Pre-made Sample Graphs"
   ]
  },
  {
   "cell_type": "code",
   "execution_count": 7,
   "metadata": {},
   "outputs": [
    {
     "data": {
      "image/png": "[encoded data removed]",
      "text/plain": [
       "<IPython.core.display.Image object>"
      ]
     },
     "execution_count": 7,
     "metadata": {},
     "output_type": "execute_result"
    }
   ],
   "source": [
    "from IPython import display\n",
    "display.Image(\"images/graph1.png\")"
   ]
  },
  {
   "cell_type": "code",
   "execution_count": 8,
   "metadata": {},
   "outputs": [
    {
     "data": {
      "image/png": "[encoded data removed]",
      "text/plain": [
       "<IPython.core.display.Image object>"
      ]
     },
     "execution_count": 8,
     "metadata": {},
     "output_type": "execute_result"
    }
   ],
   "source": [
    "display.Image(\"images/graph2.png\")"
   ]
  },
  {
   "cell_type": "code",
   "execution_count": null,
   "metadata": {},
   "outputs": [],
   "source": []
  }
 ],
 "metadata": {
  "kernelspec": {
   "display_name": "Python 3",
   "language": "python",
   "name": "python3"
  },
  "language_info": {
   "codemirror_mode": {
    "name": "ipython",
    "version": 3
   },
   "file_extension": ".py",
   "mimetype": "text/x-python",
   "name": "python",
   "nbconvert_exporter": "python",
   "pygments_lexer": "ipython3",
   "version": "3.8.5"
  }
 },
 "nbformat": 4,
 "nbformat_minor": 4
}
